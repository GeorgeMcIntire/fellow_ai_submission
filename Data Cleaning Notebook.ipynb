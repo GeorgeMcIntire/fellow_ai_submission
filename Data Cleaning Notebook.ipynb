{
 "cells": [
  {
   "cell_type": "markdown",
   "metadata": {},
   "source": [
    "## Data Cleaning Notebook\n",
    "\n",
    "Main goal of this notebook is dimensionality reduction throughing dropping features with high rates of null values or ones that I deem to be irrelevant.\n",
    "\n",
    "During this task, the codebook is being consistently referenced to help understand meaning of features."
   ]
  },
  {
   "cell_type": "markdown",
   "metadata": {},
   "source": [
    "Importing pandas, the only library needed for this task"
   ]
  },
  {
   "cell_type": "code",
   "execution_count": 1,
   "metadata": {},
   "outputs": [],
   "source": [
    "import pandas as pd"
   ]
  },
  {
   "cell_type": "markdown",
   "metadata": {},
   "source": [
    "Display files in local directory"
   ]
  },
  {
   "cell_type": "code",
   "execution_count": 2,
   "metadata": {},
   "outputs": [
    {
     "name": "stdout",
     "output_type": "stream",
     "text": [
      "\u001b[31mCodebook.pdf\u001b[m\u001b[m*                           \u001b[31mglobalterrorismdb_0617dist.xlsx\u001b[m\u001b[m*\r\n",
      "Data Cleaning Notebook.ipynb            \u001b[31mgtd1993_0617dist.xlsx\u001b[m\u001b[m*\r\n",
      "Feature Engineering_EDA_Modeling.ipynb  \u001b[31mgtd_13to16_0617dist.xlsx\u001b[m\u001b[m*\r\n",
      "\u001b[31mGTDDistributionletter2017.pdf\u001b[m\u001b[m*          \u001b[31mgtd_70to94_0617dist.xlsx\u001b[m\u001b[m*\r\n",
      "\u001b[31mTermsofUse.pdf\u001b[m\u001b[m*                         \u001b[31mgtd_95to12_0617dist.xlsx\u001b[m\u001b[m*\r\n",
      "clean_data.csv\r\n"
     ]
    }
   ],
   "source": [
    "ls"
   ]
  },
  {
   "cell_type": "markdown",
   "metadata": {},
   "source": [
    "Read in excel file of data"
   ]
  },
  {
   "cell_type": "code",
   "execution_count": 3,
   "metadata": {},
   "outputs": [],
   "source": [
    "data = pd.read_excel(\"globalterrorismdb_0617dist.xlsx\")"
   ]
  },
  {
   "cell_type": "markdown",
   "metadata": {},
   "source": [
    "View shape"
   ]
  },
  {
   "cell_type": "code",
   "execution_count": 4,
   "metadata": {},
   "outputs": [
    {
     "data": {
      "text/plain": [
       "(170350, 135)"
      ]
     },
     "execution_count": 4,
     "metadata": {},
     "output_type": "execute_result"
    }
   ],
   "source": [
    "data.shape"
   ]
  },
  {
   "cell_type": "markdown",
   "metadata": {},
   "source": [
    "View names of features"
   ]
  },
  {
   "cell_type": "code",
   "execution_count": 5,
   "metadata": {},
   "outputs": [
    {
     "data": {
      "text/plain": [
       "Index(['eventid', 'iyear', 'imonth', 'iday', 'approxdate', 'extended',\n",
       "       'resolution', 'country', 'country_txt', 'region',\n",
       "       ...\n",
       "       'addnotes', 'scite1', 'scite2', 'scite3', 'dbsource', 'INT_LOG',\n",
       "       'INT_IDEO', 'INT_MISC', 'INT_ANY', 'related'],\n",
       "      dtype='object', length=135)"
      ]
     },
     "execution_count": 5,
     "metadata": {},
     "output_type": "execute_result"
    }
   ],
   "source": [
    "data.columns"
   ]
  },
  {
   "cell_type": "markdown",
   "metadata": {},
   "source": [
    "View memory usage of `data` variable"
   ]
  },
  {
   "cell_type": "code",
   "execution_count": 6,
   "metadata": {},
   "outputs": [
    {
     "name": "stdout",
     "output_type": "stream",
     "text": [
      "<class 'pandas.core.frame.DataFrame'>\n",
      "RangeIndex: 170350 entries, 0 to 170349\n",
      "Columns: 135 entries, eventid to related\n",
      "dtypes: datetime64[ns](1), float64(53), int64(24), object(57)\n",
      "memory usage: 175.5+ MB\n"
     ]
    }
   ],
   "source": [
    "data.info()"
   ]
  },
  {
   "cell_type": "markdown",
   "metadata": {},
   "source": [
    "Display number of null values in each column"
   ]
  },
  {
   "cell_type": "code",
   "execution_count": 7,
   "metadata": {},
   "outputs": [
    {
     "data": {
      "text/plain": [
       "eventid                    0\n",
       "iyear                      0\n",
       "imonth                     0\n",
       "iday                       0\n",
       "approxdate            162886\n",
       "extended                   0\n",
       "resolution            168131\n",
       "country                    0\n",
       "country_txt                0\n",
       "region                     0\n",
       "region_txt                 0\n",
       "provstate              14502\n",
       "city                     446\n",
       "latitude                4606\n",
       "longitude               4606\n",
       "specificity                4\n",
       "vicinity                   0\n",
       "location              122376\n",
       "summary                66138\n",
       "crit1                      0\n",
       "crit2                      0\n",
       "crit3                      0\n",
       "doubtterr                  0\n",
       "alternative           143719\n",
       "alternative_txt       143719\n",
       "multiple                   0\n",
       "success                    0\n",
       "suicide                    0\n",
       "attacktype1                0\n",
       "attacktype1_txt            0\n",
       "                       ...  \n",
       "propextent            109805\n",
       "propextent_txt        109805\n",
       "propvalue             134863\n",
       "propcomment           115919\n",
       "ishostkid                178\n",
       "nhostkid              157858\n",
       "nhostkidus            157913\n",
       "nhours                166649\n",
       "ndays                 162942\n",
       "divert                170037\n",
       "kidhijcountry         167051\n",
       "ransom                 94037\n",
       "ransomamt             169071\n",
       "ransomamtus           169854\n",
       "ransompaid            169643\n",
       "ransompaidus          169863\n",
       "ransomnote            169879\n",
       "hostkidoutcome        160439\n",
       "hostkidoutcome_txt    160439\n",
       "nreleased             161028\n",
       "addnotes              144911\n",
       "scite1                 66200\n",
       "scite2                100765\n",
       "scite3                131133\n",
       "dbsource                   0\n",
       "INT_LOG                    0\n",
       "INT_IDEO                   0\n",
       "INT_MISC                   0\n",
       "INT_ANY                    0\n",
       "related               147505\n",
       "Length: 135, dtype: int64"
      ]
     },
     "execution_count": 7,
     "metadata": {},
     "output_type": "execute_result"
    }
   ],
   "source": [
    "data.isnull().sum()"
   ]
  },
  {
   "cell_type": "markdown",
   "metadata": {},
   "source": [
    "Create a list of column names that have 0 null values"
   ]
  },
  {
   "cell_type": "code",
   "execution_count": 8,
   "metadata": {},
   "outputs": [
    {
     "data": {
      "text/plain": [
       "['eventid',\n",
       " 'iyear',\n",
       " 'imonth',\n",
       " 'iday',\n",
       " 'extended',\n",
       " 'country',\n",
       " 'country_txt',\n",
       " 'region',\n",
       " 'region_txt',\n",
       " 'vicinity',\n",
       " 'crit1',\n",
       " 'crit2',\n",
       " 'crit3',\n",
       " 'doubtterr',\n",
       " 'multiple',\n",
       " 'success',\n",
       " 'suicide',\n",
       " 'attacktype1',\n",
       " 'attacktype1_txt',\n",
       " 'targtype1',\n",
       " 'targtype1_txt',\n",
       " 'gname',\n",
       " 'individual',\n",
       " 'weaptype1',\n",
       " 'weaptype1_txt',\n",
       " 'property',\n",
       " 'dbsource',\n",
       " 'INT_LOG',\n",
       " 'INT_IDEO',\n",
       " 'INT_MISC',\n",
       " 'INT_ANY']"
      ]
     },
     "execution_count": 8,
     "metadata": {},
     "output_type": "execute_result"
    }
   ],
   "source": [
    "non_null_cols = []\n",
    "\n",
    "for col in data.columns:\n",
    "    if data[col].isnull().sum() == 0:\n",
    "        non_null_cols.append(col)\n",
    "\n",
    "non_null_cols"
   ]
  },
  {
   "cell_type": "code",
   "execution_count": 10,
   "metadata": {},
   "outputs": [
    {
     "data": {
      "text/plain": [
       "31"
      ]
     },
     "execution_count": 10,
     "metadata": {},
     "output_type": "execute_result"
    }
   ],
   "source": [
    "len(non_null_cols)"
   ]
  },
  {
   "cell_type": "markdown",
   "metadata": {},
   "source": [
    "There are 31 out of 175 columns with 0 values. "
   ]
  },
  {
   "cell_type": "code",
   "execution_count": null,
   "metadata": {},
   "outputs": [],
   "source": []
  },
  {
   "cell_type": "markdown",
   "metadata": {},
   "source": [
    "Create a list of column names that have >0 null values"
   ]
  },
  {
   "cell_type": "code",
   "execution_count": 9,
   "metadata": {},
   "outputs": [],
   "source": [
    "cols_with_nulls = []\n",
    "\n",
    "for col in data.columns:\n",
    "    if col not in non_null_cols:\n",
    "        cols_with_nulls.append(col)"
   ]
  },
  {
   "cell_type": "markdown",
   "metadata": {},
   "source": [
    "Pass in `cols_withs_nulls` into data and create a new dataframe"
   ]
  },
  {
   "cell_type": "code",
   "execution_count": 10,
   "metadata": {},
   "outputs": [],
   "source": [
    "data_nulls = data[cols_with_nulls].copy()"
   ]
  },
  {
   "cell_type": "code",
   "execution_count": 11,
   "metadata": {},
   "outputs": [
    {
     "name": "stdout",
     "output_type": "stream",
     "text": [
      "<class 'pandas.core.frame.DataFrame'>\n",
      "RangeIndex: 170350 entries, 0 to 170349\n",
      "Columns: 104 entries, approxdate to related\n",
      "dtypes: datetime64[ns](1), float64(53), object(50)\n",
      "memory usage: 135.2+ MB\n"
     ]
    }
   ],
   "source": [
    "data_nulls.info()"
   ]
  },
  {
   "cell_type": "code",
   "execution_count": 12,
   "metadata": {},
   "outputs": [
    {
     "data": {
      "text/plain": [
       "Index(['approxdate', 'resolution', 'provstate', 'city', 'latitude',\n",
       "       'longitude', 'specificity', 'location', 'summary', 'alternative',\n",
       "       ...\n",
       "       'ransompaidus', 'ransomnote', 'hostkidoutcome', 'hostkidoutcome_txt',\n",
       "       'nreleased', 'addnotes', 'scite1', 'scite2', 'scite3', 'related'],\n",
       "      dtype='object', length=104)"
      ]
     },
     "execution_count": 12,
     "metadata": {},
     "output_type": "execute_result"
    }
   ],
   "source": [
    "data_nulls.columns"
   ]
  },
  {
   "cell_type": "markdown",
   "metadata": {},
   "source": [
    "Display total number of null values of each column"
   ]
  },
  {
   "cell_type": "code",
   "execution_count": 15,
   "metadata": {},
   "outputs": [
    {
     "data": {
      "text/plain": [
       "gsubname3           170337\n",
       "weapsubtype4_txt    170279\n",
       "weapsubtype4        170279\n",
       "weaptype4           170276\n",
       "weaptype4_txt       170276\n",
       "claimmode3_txt      170230\n",
       "claimmode3          170230\n",
       "gsubname2           170201\n",
       "claim3              170087\n",
       "guncertain3         170085\n",
       "gname3              170081\n",
       "divert              170037\n",
       "attacktype3_txt     169976\n",
       "attacktype3         169976\n",
       "ransomnote          169879\n",
       "ransompaidus        169863\n",
       "ransomamtus         169854\n",
       "claimmode2          169818\n",
       "claimmode2_txt      169818\n",
       "ransompaid          169643\n",
       "corp3               169466\n",
       "targsubtype3        169389\n",
       "targsubtype3_txt    169389\n",
       "natlty3             169344\n",
       "natlty3_txt         169344\n",
       "target3             169317\n",
       "targtype3_txt       169316\n",
       "targtype3           169316\n",
       "ransomamt           169071\n",
       "weapsubtype3        168843\n",
       "                     ...  \n",
       "propextent          109805\n",
       "scite2              100765\n",
       "ransom               94037\n",
       "nperps               71124\n",
       "nperpcap             69499\n",
       "nwoundte             68749\n",
       "nkillter             66663\n",
       "scite1               66200\n",
       "summary              66138\n",
       "claimed              66134\n",
       "nwoundus             64710\n",
       "nkillus              64459\n",
       "weapdetail           59385\n",
       "corp1                42566\n",
       "weapsubtype1         19426\n",
       "weapsubtype1_txt     19426\n",
       "nwound               15325\n",
       "provstate            14502\n",
       "nkill                 9682\n",
       "targsubtype1          9345\n",
       "targsubtype1_txt      9345\n",
       "longitude             4606\n",
       "latitude              4606\n",
       "natlty1_txt           1394\n",
       "natlty1               1394\n",
       "target1                636\n",
       "city                   446\n",
       "guncertain1            379\n",
       "ishostkid              178\n",
       "specificity              4\n",
       "Length: 104, dtype: int64"
      ]
     },
     "execution_count": 15,
     "metadata": {},
     "output_type": "execute_result"
    }
   ],
   "source": [
    "data_nulls.isnull().sum().sort_values(ascending = False)"
   ]
  },
  {
   "cell_type": "markdown",
   "metadata": {},
   "source": [
    "Here I made the decision to not keep any column with more than 100k null values"
   ]
  },
  {
   "cell_type": "code",
   "execution_count": 17,
   "metadata": {},
   "outputs": [],
   "source": [
    "cols_w_nulls_keep = data_nulls.isnull().sum().sort_values(ascending = False).iloc[-28:].index"
   ]
  },
  {
   "cell_type": "markdown",
   "metadata": {},
   "source": [
    "Pass list of column names with <100k null values into `data_nulls`"
   ]
  },
  {
   "cell_type": "code",
   "execution_count": 18,
   "metadata": {},
   "outputs": [],
   "source": [
    "data_nulls = data_nulls[cols_w_nulls_keep].copy()"
   ]
  },
  {
   "cell_type": "code",
   "execution_count": 19,
   "metadata": {},
   "outputs": [
    {
     "data": {
      "text/html": [
       "<div>\n",
       "<style scoped>\n",
       "    .dataframe tbody tr th:only-of-type {\n",
       "        vertical-align: middle;\n",
       "    }\n",
       "\n",
       "    .dataframe tbody tr th {\n",
       "        vertical-align: top;\n",
       "    }\n",
       "\n",
       "    .dataframe thead th {\n",
       "        text-align: right;\n",
       "    }\n",
       "</style>\n",
       "<table border=\"1\" class=\"dataframe\">\n",
       "  <thead>\n",
       "    <tr style=\"text-align: right;\">\n",
       "      <th></th>\n",
       "      <th>ransom</th>\n",
       "      <th>nperps</th>\n",
       "      <th>nperpcap</th>\n",
       "      <th>nwoundte</th>\n",
       "      <th>nkillter</th>\n",
       "      <th>scite1</th>\n",
       "      <th>summary</th>\n",
       "      <th>claimed</th>\n",
       "      <th>nwoundus</th>\n",
       "      <th>nkillus</th>\n",
       "      <th>...</th>\n",
       "      <th>targsubtype1_txt</th>\n",
       "      <th>longitude</th>\n",
       "      <th>latitude</th>\n",
       "      <th>natlty1_txt</th>\n",
       "      <th>natlty1</th>\n",
       "      <th>target1</th>\n",
       "      <th>city</th>\n",
       "      <th>guncertain1</th>\n",
       "      <th>ishostkid</th>\n",
       "      <th>specificity</th>\n",
       "    </tr>\n",
       "  </thead>\n",
       "  <tbody>\n",
       "    <tr>\n",
       "      <th>0</th>\n",
       "      <td>0.0</td>\n",
       "      <td>NaN</td>\n",
       "      <td>NaN</td>\n",
       "      <td>NaN</td>\n",
       "      <td>NaN</td>\n",
       "      <td>NaN</td>\n",
       "      <td>NaN</td>\n",
       "      <td>NaN</td>\n",
       "      <td>NaN</td>\n",
       "      <td>NaN</td>\n",
       "      <td>...</td>\n",
       "      <td>Named Civilian</td>\n",
       "      <td>-69.951164</td>\n",
       "      <td>18.456792</td>\n",
       "      <td>Dominican Republic</td>\n",
       "      <td>58.0</td>\n",
       "      <td>Julio Guzman</td>\n",
       "      <td>Santo Domingo</td>\n",
       "      <td>0.0</td>\n",
       "      <td>0.0</td>\n",
       "      <td>1.0</td>\n",
       "    </tr>\n",
       "  </tbody>\n",
       "</table>\n",
       "<p>1 rows × 28 columns</p>\n",
       "</div>"
      ],
      "text/plain": [
       "   ransom  nperps  nperpcap  nwoundte  nkillter scite1 summary  claimed  \\\n",
       "0     0.0     NaN       NaN       NaN       NaN    NaN     NaN      NaN   \n",
       "\n",
       "   nwoundus  nkillus     ...      targsubtype1_txt  longitude   latitude  \\\n",
       "0       NaN      NaN     ...        Named Civilian -69.951164  18.456792   \n",
       "\n",
       "          natlty1_txt  natlty1       target1           city  guncertain1  \\\n",
       "0  Dominican Republic     58.0  Julio Guzman  Santo Domingo          0.0   \n",
       "\n",
       "  ishostkid  specificity  \n",
       "0       0.0          1.0  \n",
       "\n",
       "[1 rows x 28 columns]"
      ]
     },
     "execution_count": 19,
     "metadata": {},
     "output_type": "execute_result"
    }
   ],
   "source": [
    "data_nulls.head(1)"
   ]
  },
  {
   "cell_type": "markdown",
   "metadata": {},
   "source": [
    "**This is the point where I go through inspect the values of each to inform my decision on whether or not to keep them**"
   ]
  },
  {
   "cell_type": "code",
   "execution_count": null,
   "metadata": {},
   "outputs": [],
   "source": []
  },
  {
   "cell_type": "markdown",
   "metadata": {},
   "source": [
    "View uniques of `ransom` variable"
   ]
  },
  {
   "cell_type": "code",
   "execution_count": 20,
   "metadata": {},
   "outputs": [
    {
     "data": {
      "text/plain": [
       "array([ 0.,  1., nan, -9.])"
      ]
     },
     "execution_count": 20,
     "metadata": {},
     "output_type": "execute_result"
    }
   ],
   "source": [
    "data_nulls.ransom.unique()"
   ]
  },
  {
   "cell_type": "markdown",
   "metadata": {},
   "source": [
    "Fill in nulls of ransom with -9"
   ]
  },
  {
   "cell_type": "code",
   "execution_count": 21,
   "metadata": {},
   "outputs": [],
   "source": [
    "\n",
    "\n",
    "data_nulls.ransom.fillna(-9., inplace=True)"
   ]
  },
  {
   "cell_type": "markdown",
   "metadata": {},
   "source": [
    "Display counts of unique values in `nperps` column"
   ]
  },
  {
   "cell_type": "code",
   "execution_count": 22,
   "metadata": {},
   "outputs": [
    {
     "data": {
      "text/plain": [
       "-99.0       73051\n",
       "NaN         71124\n",
       " 1.0         7517\n",
       " 2.0         5611\n",
       " 3.0         2626\n",
       " 4.0         2084\n",
       " 5.0         1013\n",
       " 6.0          737\n",
       " 10.0         612\n",
       " 20.0         609\n",
       " 30.0         566\n",
       " 50.0         528\n",
       " 100.0        428\n",
       " 15.0         409\n",
       " 7.0          359\n",
       " 8.0          347\n",
       " 200.0        285\n",
       " 40.0         275\n",
       " 12.0         261\n",
       " 25.0         178\n",
       " 60.0         150\n",
       " 9.0          139\n",
       " 0.0          139\n",
       " 300.0        134\n",
       " 150.0        127\n",
       " 70.0          86\n",
       " 80.0          77\n",
       " 24.0          68\n",
       " 13.0          63\n",
       " 11.0          54\n",
       "            ...  \n",
       " 28.0           2\n",
       " 41.0           2\n",
       " 58.0           2\n",
       " 84.0           1\n",
       " 25000.0        1\n",
       " 3200.0         1\n",
       " 750.0          1\n",
       " 44.0           1\n",
       " 64.0           1\n",
       " 72.0           1\n",
       " 48.0           1\n",
       " 138.0          1\n",
       " 230.0          1\n",
       " 900.0          1\n",
       " 370.0          1\n",
       " 156.0          1\n",
       " 190.0          1\n",
       " 2500.0         1\n",
       " 52.0           1\n",
       " 68.0           1\n",
       " 42.0           1\n",
       " 49.0           1\n",
       " 204.0          1\n",
       " 53.0           1\n",
       " 290.0          1\n",
       " 59.0           1\n",
       " 207.0          1\n",
       " 56.0           1\n",
       " 20000.0        1\n",
       " 38.0           1\n",
       "Name: nperps, Length: 113, dtype: int64"
      ]
     },
     "execution_count": 22,
     "metadata": {},
     "output_type": "execute_result"
    }
   ],
   "source": [
    "data_nulls.nperps.value_counts(dropna=False)"
   ]
  },
  {
   "cell_type": "markdown",
   "metadata": {},
   "source": [
    "Impute null values of nperps with -99.0"
   ]
  },
  {
   "cell_type": "code",
   "execution_count": 34,
   "metadata": {},
   "outputs": [],
   "source": [
    "data_nulls.nperps.fillna(-99.0, inplace=True)"
   ]
  },
  {
   "cell_type": "markdown",
   "metadata": {},
   "source": [
    "View unique values of `nperpcap` and impute null values with -99.0"
   ]
  },
  {
   "cell_type": "code",
   "execution_count": 35,
   "metadata": {},
   "outputs": [
    {
     "data": {
      "text/plain": [
       "array([-99. ,   1. ,   2. ,   0. ,   4. ,   3. ,   6. ,   5. ,   7. ,\n",
       "         8. ,   9. ,  10. ,  26. ,  24. ,  13. ,  14. ,  45. ,  12. ,\n",
       "        11. ,   2.5,  25. ,  32. ,  27. ,  -9. ,  15. ,  43. ,  21. ,\n",
       "        50. , 406. ,  17. , 100. ,  60. ,  87. ,  55. ,  20. ,  29. ,\n",
       "        76. ,  40. , 271. ,  28. ,  16. ,  19. ,  30. , 200. ,  41. ,\n",
       "        18. , 126. ,  23. ,  22. ,  63. ])"
      ]
     },
     "execution_count": 35,
     "metadata": {},
     "output_type": "execute_result"
    }
   ],
   "source": [
    "data_nulls.nperpcap.unique()"
   ]
  },
  {
   "cell_type": "code",
   "execution_count": 24,
   "metadata": {},
   "outputs": [],
   "source": [
    "data_nulls.nperpcap.fillna(-99., inplace=True)"
   ]
  },
  {
   "cell_type": "markdown",
   "metadata": {},
   "source": [
    "View unique values of `nwoundte` and drop it"
   ]
  },
  {
   "cell_type": "code",
   "execution_count": 25,
   "metadata": {},
   "outputs": [
    {
     "data": {
      "text/plain": [
       "array([ nan,   0.,   1.,   4.,   2.,   3.,   5.,   6.,  50.,  10.,  16.,\n",
       "        20.,   9.,  13.,  11., 200.,   7.,  15.,  31.,   8.,  12.,  25.,\n",
       "        30.,  38.,  14.,  21.,  24.,  18.,  62.,  17., 150.,  22.,  23.,\n",
       "        33.,  19.,  40.,  51., 101.,  60.,  35.,  53.,  26., 100.])"
      ]
     },
     "execution_count": 25,
     "metadata": {},
     "output_type": "execute_result"
    }
   ],
   "source": [
    "data_nulls.nwoundte.unique()"
   ]
  },
  {
   "cell_type": "code",
   "execution_count": 37,
   "metadata": {},
   "outputs": [],
   "source": [
    "data_nulls.drop(\"nwoundte\", axis = 1, inplace=True)"
   ]
  },
  {
   "cell_type": "markdown",
   "metadata": {},
   "source": [
    "Drop `nkillter`"
   ]
  },
  {
   "cell_type": "code",
   "execution_count": 39,
   "metadata": {},
   "outputs": [],
   "source": [
    "data_nulls.drop(\"nkillter\", axis = 1, inplace=True)"
   ]
  },
  {
   "cell_type": "code",
   "execution_count": 27,
   "metadata": {},
   "outputs": [
    {
     "data": {
      "text/html": [
       "<div>\n",
       "<style scoped>\n",
       "    .dataframe tbody tr th:only-of-type {\n",
       "        vertical-align: middle;\n",
       "    }\n",
       "\n",
       "    .dataframe tbody tr th {\n",
       "        vertical-align: top;\n",
       "    }\n",
       "\n",
       "    .dataframe thead th {\n",
       "        text-align: right;\n",
       "    }\n",
       "</style>\n",
       "<table border=\"1\" class=\"dataframe\">\n",
       "  <thead>\n",
       "    <tr style=\"text-align: right;\">\n",
       "      <th></th>\n",
       "      <th>ransom</th>\n",
       "      <th>nperps</th>\n",
       "      <th>nperpcap</th>\n",
       "      <th>nwoundte</th>\n",
       "      <th>scite1</th>\n",
       "      <th>summary</th>\n",
       "      <th>claimed</th>\n",
       "      <th>nwoundus</th>\n",
       "      <th>nkillus</th>\n",
       "      <th>weapdetail</th>\n",
       "      <th>...</th>\n",
       "      <th>targsubtype1_txt</th>\n",
       "      <th>longitude</th>\n",
       "      <th>latitude</th>\n",
       "      <th>natlty1_txt</th>\n",
       "      <th>natlty1</th>\n",
       "      <th>target1</th>\n",
       "      <th>city</th>\n",
       "      <th>guncertain1</th>\n",
       "      <th>ishostkid</th>\n",
       "      <th>specificity</th>\n",
       "    </tr>\n",
       "  </thead>\n",
       "  <tbody>\n",
       "    <tr>\n",
       "      <th>0</th>\n",
       "      <td>0.0</td>\n",
       "      <td>NaN</td>\n",
       "      <td>-99.0</td>\n",
       "      <td>NaN</td>\n",
       "      <td>NaN</td>\n",
       "      <td>NaN</td>\n",
       "      <td>NaN</td>\n",
       "      <td>NaN</td>\n",
       "      <td>NaN</td>\n",
       "      <td>NaN</td>\n",
       "      <td>...</td>\n",
       "      <td>Named Civilian</td>\n",
       "      <td>-69.951164</td>\n",
       "      <td>18.456792</td>\n",
       "      <td>Dominican Republic</td>\n",
       "      <td>58.0</td>\n",
       "      <td>Julio Guzman</td>\n",
       "      <td>Santo Domingo</td>\n",
       "      <td>0.0</td>\n",
       "      <td>0.0</td>\n",
       "      <td>1.0</td>\n",
       "    </tr>\n",
       "  </tbody>\n",
       "</table>\n",
       "<p>1 rows × 27 columns</p>\n",
       "</div>"
      ],
      "text/plain": [
       "   ransom  nperps  nperpcap  nwoundte scite1 summary  claimed  nwoundus  \\\n",
       "0     0.0     NaN     -99.0       NaN    NaN     NaN      NaN       NaN   \n",
       "\n",
       "   nkillus weapdetail     ...      targsubtype1_txt  longitude   latitude  \\\n",
       "0      NaN        NaN     ...        Named Civilian -69.951164  18.456792   \n",
       "\n",
       "          natlty1_txt natlty1       target1           city guncertain1  \\\n",
       "0  Dominican Republic    58.0  Julio Guzman  Santo Domingo         0.0   \n",
       "\n",
       "   ishostkid  specificity  \n",
       "0        0.0          1.0  \n",
       "\n",
       "[1 rows x 27 columns]"
      ]
     },
     "execution_count": 27,
     "metadata": {},
     "output_type": "execute_result"
    }
   ],
   "source": [
    "data_nulls.head(1)"
   ]
  },
  {
   "cell_type": "markdown",
   "metadata": {},
   "source": [
    "Drop `scite1`"
   ]
  },
  {
   "cell_type": "code",
   "execution_count": 28,
   "metadata": {},
   "outputs": [],
   "source": [
    "data_nulls.drop(\"scite1\", axis = 1, inplace=True)"
   ]
  },
  {
   "cell_type": "markdown",
   "metadata": {},
   "source": [
    "Display number of nulls in `summary` and then drop it"
   ]
  },
  {
   "cell_type": "code",
   "execution_count": 29,
   "metadata": {},
   "outputs": [
    {
     "data": {
      "text/plain": [
       "66138"
      ]
     },
     "execution_count": 29,
     "metadata": {},
     "output_type": "execute_result"
    }
   ],
   "source": [
    "data_nulls.summary.isnull().sum()"
   ]
  },
  {
   "cell_type": "code",
   "execution_count": 30,
   "metadata": {},
   "outputs": [],
   "source": [
    "data_nulls.drop(\"summary\", axis = 1, inplace=True)"
   ]
  },
  {
   "cell_type": "markdown",
   "metadata": {},
   "source": [
    "View unique values in `claimed` and impute null values with -9."
   ]
  },
  {
   "cell_type": "code",
   "execution_count": 31,
   "metadata": {},
   "outputs": [
    {
     "data": {
      "text/plain": [
       "array([nan,  0.,  1., -9.])"
      ]
     },
     "execution_count": 31,
     "metadata": {},
     "output_type": "execute_result"
    }
   ],
   "source": [
    "data_nulls.claimed.unique()"
   ]
  },
  {
   "cell_type": "code",
   "execution_count": 32,
   "metadata": {},
   "outputs": [],
   "source": [
    "data_nulls.claimed.fillna(-9., inplace=True)"
   ]
  },
  {
   "cell_type": "markdown",
   "metadata": {},
   "source": [
    "Display number of nulls in each column"
   ]
  },
  {
   "cell_type": "code",
   "execution_count": 40,
   "metadata": {},
   "outputs": [
    {
     "data": {
      "text/plain": [
       "ransom                  0\n",
       "nperps                  0\n",
       "nperpcap                0\n",
       "claimed                 0\n",
       "nwoundus            64710\n",
       "nkillus             64459\n",
       "weapdetail          59385\n",
       "corp1               42566\n",
       "weapsubtype1        19426\n",
       "weapsubtype1_txt    19426\n",
       "nwound              15325\n",
       "provstate           14502\n",
       "nkill                9682\n",
       "targsubtype1         9345\n",
       "targsubtype1_txt     9345\n",
       "longitude            4606\n",
       "latitude             4606\n",
       "natlty1_txt          1394\n",
       "natlty1              1394\n",
       "target1               636\n",
       "city                  446\n",
       "guncertain1           379\n",
       "ishostkid             178\n",
       "specificity             4\n",
       "dtype: int64"
      ]
     },
     "execution_count": 40,
     "metadata": {},
     "output_type": "execute_result"
    }
   ],
   "source": [
    "data_nulls.isnull().sum()"
   ]
  },
  {
   "cell_type": "markdown",
   "metadata": {},
   "source": [
    "View data shape"
   ]
  },
  {
   "cell_type": "code",
   "execution_count": 41,
   "metadata": {},
   "outputs": [
    {
     "data": {
      "text/plain": [
       "(170350, 24)"
      ]
     },
     "execution_count": 41,
     "metadata": {},
     "output_type": "execute_result"
    }
   ],
   "source": [
    "data_nulls.shape"
   ]
  },
  {
   "cell_type": "markdown",
   "metadata": {},
   "source": [
    "Drop the `nwoundus` and `nkillus` columns"
   ]
  },
  {
   "cell_type": "code",
   "execution_count": 42,
   "metadata": {},
   "outputs": [],
   "source": [
    "data_nulls.drop([\"nwoundus\", \"nkillus\"], axis = 1, inplace=True)"
   ]
  },
  {
   "cell_type": "markdown",
   "metadata": {},
   "source": [
    "Impute null values in `weapdetail` column with \"no description\""
   ]
  },
  {
   "cell_type": "code",
   "execution_count": 43,
   "metadata": {},
   "outputs": [],
   "source": [
    "data_nulls.weapdetail.fillna(\"no description\", inplace=True)"
   ]
  },
  {
   "cell_type": "markdown",
   "metadata": {},
   "source": [
    "Impute null values in `corp1` and `weapsubtype` with \"unknown\""
   ]
  },
  {
   "cell_type": "code",
   "execution_count": 44,
   "metadata": {},
   "outputs": [],
   "source": [
    "data_nulls.corp1.fillna(\"unknown\", inplace=True)"
   ]
  },
  {
   "cell_type": "code",
   "execution_count": 45,
   "metadata": {},
   "outputs": [],
   "source": [
    "data_nulls.weapsubtype1.fillna(\"unknown\", inplace=True)"
   ]
  },
  {
   "cell_type": "markdown",
   "metadata": {},
   "source": [
    "Drop `weapsubtype1_txt`"
   ]
  },
  {
   "cell_type": "code",
   "execution_count": 46,
   "metadata": {},
   "outputs": [],
   "source": [
    "data_nulls.drop([\"weapsubtype1_txt\"], axis = 1, inplace=True)"
   ]
  },
  {
   "cell_type": "markdown",
   "metadata": {},
   "source": [
    "Create dataframe `df` that consists of features with 0 nulls"
   ]
  },
  {
   "cell_type": "code",
   "execution_count": 47,
   "metadata": {},
   "outputs": [],
   "source": [
    "df = data[non_null_cols].copy()"
   ]
  },
  {
   "cell_type": "markdown",
   "metadata": {},
   "source": [
    "Concatenate along the columns the `df` and `data_nulls` dataframes"
   ]
  },
  {
   "cell_type": "code",
   "execution_count": 48,
   "metadata": {},
   "outputs": [],
   "source": [
    "df = pd.concat([df, data_nulls], axis = 1)"
   ]
  },
  {
   "cell_type": "markdown",
   "metadata": {},
   "source": [
    "View number of nulls in each column"
   ]
  },
  {
   "cell_type": "code",
   "execution_count": 49,
   "metadata": {},
   "outputs": [
    {
     "data": {
      "text/plain": [
       "eventid                 0\n",
       "iyear                   0\n",
       "imonth                  0\n",
       "iday                    0\n",
       "extended                0\n",
       "country                 0\n",
       "country_txt             0\n",
       "region                  0\n",
       "region_txt              0\n",
       "vicinity                0\n",
       "crit1                   0\n",
       "crit2                   0\n",
       "crit3                   0\n",
       "doubtterr               0\n",
       "multiple                0\n",
       "success                 0\n",
       "suicide                 0\n",
       "attacktype1             0\n",
       "attacktype1_txt         0\n",
       "targtype1               0\n",
       "targtype1_txt           0\n",
       "gname                   0\n",
       "individual              0\n",
       "weaptype1               0\n",
       "weaptype1_txt           0\n",
       "property                0\n",
       "dbsource                0\n",
       "INT_LOG                 0\n",
       "INT_IDEO                0\n",
       "INT_MISC                0\n",
       "INT_ANY                 0\n",
       "ransom                  0\n",
       "nperps                  0\n",
       "nperpcap                0\n",
       "claimed                 0\n",
       "weapdetail              0\n",
       "corp1                   0\n",
       "weapsubtype1            0\n",
       "nwound              15325\n",
       "provstate           14502\n",
       "nkill                9682\n",
       "targsubtype1         9345\n",
       "targsubtype1_txt     9345\n",
       "longitude            4606\n",
       "latitude             4606\n",
       "natlty1_txt          1394\n",
       "natlty1              1394\n",
       "target1               636\n",
       "city                  446\n",
       "guncertain1           379\n",
       "ishostkid             178\n",
       "specificity             4\n",
       "dtype: int64"
      ]
     },
     "execution_count": 49,
     "metadata": {},
     "output_type": "execute_result"
    }
   ],
   "source": [
    "df.isnull().sum()"
   ]
  },
  {
   "cell_type": "markdown",
   "metadata": {},
   "source": [
    "Drop any row that has a single null value"
   ]
  },
  {
   "cell_type": "code",
   "execution_count": 50,
   "metadata": {},
   "outputs": [],
   "source": [
    "df.dropna(inplace=True)"
   ]
  },
  {
   "cell_type": "markdown",
   "metadata": {},
   "source": [
    "Excess columns and nulls have been removed. Outputting clean data as a csv file."
   ]
  },
  {
   "cell_type": "code",
   "execution_count": 51,
   "metadata": {},
   "outputs": [],
   "source": [
    "df.to_csv(\"clean_data.csv\")"
   ]
  },
  {
   "cell_type": "code",
   "execution_count": null,
   "metadata": {},
   "outputs": [],
   "source": []
  }
 ],
 "metadata": {
  "kernelspec": {
   "display_name": "Python 3",
   "language": "python",
   "name": "python3"
  },
  "language_info": {
   "codemirror_mode": {
    "name": "ipython",
    "version": 3
   },
   "file_extension": ".py",
   "mimetype": "text/x-python",
   "name": "python",
   "nbconvert_exporter": "python",
   "pygments_lexer": "ipython3",
   "version": "3.6.2"
  }
 },
 "nbformat": 4,
 "nbformat_minor": 2
}
