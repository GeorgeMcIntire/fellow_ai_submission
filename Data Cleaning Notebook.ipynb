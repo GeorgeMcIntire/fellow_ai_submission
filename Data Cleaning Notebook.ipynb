{
 "cells": [
  {
   "cell_type": "code",
   "execution_count": 1,
   "metadata": {},
   "outputs": [],
   "source": [
    "import pandas as pd\n",
    "import numpy as np\n",
    "import matplotlib.pyplot as plt\n",
    "import seaborn as sns\n",
    "\n",
    "%matplotlib inline"
   ]
  },
  {
   "cell_type": "code",
   "execution_count": 2,
   "metadata": {},
   "outputs": [
    {
     "name": "stdout",
     "output_type": "stream",
     "text": [
      "\u001b[31mCodebook.pdf\u001b[m\u001b[m*                    \u001b[31mgtd1993_0617dist.xlsx\u001b[m\u001b[m*\r\n",
      "Data Cleaning Notebook.ipynb     \u001b[31mgtd_13to16_0617dist.xlsx\u001b[m\u001b[m*\r\n",
      "\u001b[31mGTDDistributionletter2017.pdf\u001b[m\u001b[m*   \u001b[31mgtd_70to94_0617dist.xlsx\u001b[m\u001b[m*\r\n",
      "\u001b[31mTermsofUse.pdf\u001b[m\u001b[m*                  \u001b[31mgtd_95to12_0617dist.xlsx\u001b[m\u001b[m*\r\n",
      "\u001b[31mglobalterrorismdb_0617dist.xlsx\u001b[m\u001b[m*\r\n"
     ]
    }
   ],
   "source": [
    "ls"
   ]
  },
  {
   "cell_type": "code",
   "execution_count": 3,
   "metadata": {},
   "outputs": [],
   "source": [
    "data = pd.read_excel(\"globalterrorismdb_0617dist.xlsx\")"
   ]
  },
  {
   "cell_type": "code",
   "execution_count": 4,
   "metadata": {},
   "outputs": [
    {
     "data": {
      "text/plain": [
       "(170350, 135)"
      ]
     },
     "execution_count": 4,
     "metadata": {},
     "output_type": "execute_result"
    }
   ],
   "source": [
    "data.shape"
   ]
  },
  {
   "cell_type": "code",
   "execution_count": 5,
   "metadata": {},
   "outputs": [
    {
     "data": {
      "text/plain": [
       "Index(['eventid', 'iyear', 'imonth', 'iday', 'approxdate', 'extended',\n",
       "       'resolution', 'country', 'country_txt', 'region',\n",
       "       ...\n",
       "       'addnotes', 'scite1', 'scite2', 'scite3', 'dbsource', 'INT_LOG',\n",
       "       'INT_IDEO', 'INT_MISC', 'INT_ANY', 'related'],\n",
       "      dtype='object', length=135)"
      ]
     },
     "execution_count": 5,
     "metadata": {},
     "output_type": "execute_result"
    }
   ],
   "source": [
    "data.columns"
   ]
  },
  {
   "cell_type": "code",
   "execution_count": 6,
   "metadata": {},
   "outputs": [
    {
     "name": "stdout",
     "output_type": "stream",
     "text": [
      "<class 'pandas.core.frame.DataFrame'>\n",
      "RangeIndex: 170350 entries, 0 to 170349\n",
      "Columns: 135 entries, eventid to related\n",
      "dtypes: datetime64[ns](1), float64(53), int64(24), object(57)\n",
      "memory usage: 175.5+ MB\n"
     ]
    }
   ],
   "source": [
    "data.info()"
   ]
  },
  {
   "cell_type": "code",
   "execution_count": 7,
   "metadata": {},
   "outputs": [
    {
     "data": {
      "text/plain": [
       "eventid                    0\n",
       "iyear                      0\n",
       "imonth                     0\n",
       "iday                       0\n",
       "approxdate            162886\n",
       "extended                   0\n",
       "resolution            168131\n",
       "country                    0\n",
       "country_txt                0\n",
       "region                     0\n",
       "region_txt                 0\n",
       "provstate              14502\n",
       "city                     446\n",
       "latitude                4606\n",
       "longitude               4606\n",
       "specificity                4\n",
       "vicinity                   0\n",
       "location              122376\n",
       "summary                66138\n",
       "crit1                      0\n",
       "crit2                      0\n",
       "crit3                      0\n",
       "doubtterr                  0\n",
       "alternative           143719\n",
       "alternative_txt       143719\n",
       "multiple                   0\n",
       "success                    0\n",
       "suicide                    0\n",
       "attacktype1                0\n",
       "attacktype1_txt            0\n",
       "                       ...  \n",
       "propextent            109805\n",
       "propextent_txt        109805\n",
       "propvalue             134863\n",
       "propcomment           115919\n",
       "ishostkid                178\n",
       "nhostkid              157858\n",
       "nhostkidus            157913\n",
       "nhours                166649\n",
       "ndays                 162942\n",
       "divert                170037\n",
       "kidhijcountry         167051\n",
       "ransom                 94037\n",
       "ransomamt             169071\n",
       "ransomamtus           169854\n",
       "ransompaid            169643\n",
       "ransompaidus          169863\n",
       "ransomnote            169879\n",
       "hostkidoutcome        160439\n",
       "hostkidoutcome_txt    160439\n",
       "nreleased             161028\n",
       "addnotes              144911\n",
       "scite1                 66200\n",
       "scite2                100765\n",
       "scite3                131133\n",
       "dbsource                   0\n",
       "INT_LOG                    0\n",
       "INT_IDEO                   0\n",
       "INT_MISC                   0\n",
       "INT_ANY                    0\n",
       "related               147505\n",
       "Length: 135, dtype: int64"
      ]
     },
     "execution_count": 7,
     "metadata": {},
     "output_type": "execute_result"
    }
   ],
   "source": [
    "data.isnull().sum()"
   ]
  },
  {
   "cell_type": "code",
   "execution_count": 8,
   "metadata": {},
   "outputs": [],
   "source": [
    "non_null_cols = []\n",
    "\n",
    "for col in data.columns:\n",
    "    if data[col].isnull().sum() == 0:\n",
    "        non_null_cols.append(col)"
   ]
  },
  {
   "cell_type": "code",
   "execution_count": 9,
   "metadata": {},
   "outputs": [
    {
     "data": {
      "text/plain": [
       "['eventid',\n",
       " 'iyear',\n",
       " 'imonth',\n",
       " 'iday',\n",
       " 'extended',\n",
       " 'country',\n",
       " 'country_txt',\n",
       " 'region',\n",
       " 'region_txt',\n",
       " 'vicinity',\n",
       " 'crit1',\n",
       " 'crit2',\n",
       " 'crit3',\n",
       " 'doubtterr',\n",
       " 'multiple',\n",
       " 'success',\n",
       " 'suicide',\n",
       " 'attacktype1',\n",
       " 'attacktype1_txt',\n",
       " 'targtype1',\n",
       " 'targtype1_txt',\n",
       " 'gname',\n",
       " 'individual',\n",
       " 'weaptype1',\n",
       " 'weaptype1_txt',\n",
       " 'property',\n",
       " 'dbsource',\n",
       " 'INT_LOG',\n",
       " 'INT_IDEO',\n",
       " 'INT_MISC',\n",
       " 'INT_ANY']"
      ]
     },
     "execution_count": 9,
     "metadata": {},
     "output_type": "execute_result"
    }
   ],
   "source": [
    "non_null_cols"
   ]
  },
  {
   "cell_type": "code",
   "execution_count": 10,
   "metadata": {},
   "outputs": [
    {
     "data": {
      "text/plain": [
       "31"
      ]
     },
     "execution_count": 10,
     "metadata": {},
     "output_type": "execute_result"
    }
   ],
   "source": [
    "len(non_null_cols)"
   ]
  },
  {
   "cell_type": "markdown",
   "metadata": {},
   "source": [
    "Starting off 31 non nulls columns"
   ]
  },
  {
   "cell_type": "code",
   "execution_count": 11,
   "metadata": {},
   "outputs": [],
   "source": [
    "cols_with_nulls = []\n",
    "\n",
    "for col in data.columns:\n",
    "    if col not in non_null_cols:\n",
    "        cols_with_nulls.append(col)"
   ]
  },
  {
   "cell_type": "code",
   "execution_count": 12,
   "metadata": {},
   "outputs": [],
   "source": [
    "data_nulls = data[cols_with_nulls].copy()"
   ]
  },
  {
   "cell_type": "code",
   "execution_count": 13,
   "metadata": {},
   "outputs": [
    {
     "name": "stdout",
     "output_type": "stream",
     "text": [
      "<class 'pandas.core.frame.DataFrame'>\n",
      "RangeIndex: 170350 entries, 0 to 170349\n",
      "Columns: 104 entries, approxdate to related\n",
      "dtypes: datetime64[ns](1), float64(53), object(50)\n",
      "memory usage: 135.2+ MB\n"
     ]
    }
   ],
   "source": [
    "data_nulls.info()"
   ]
  },
  {
   "cell_type": "code",
   "execution_count": 14,
   "metadata": {},
   "outputs": [
    {
     "data": {
      "text/plain": [
       "Index(['approxdate', 'resolution', 'provstate', 'city', 'latitude',\n",
       "       'longitude', 'specificity', 'location', 'summary', 'alternative',\n",
       "       ...\n",
       "       'ransompaidus', 'ransomnote', 'hostkidoutcome', 'hostkidoutcome_txt',\n",
       "       'nreleased', 'addnotes', 'scite1', 'scite2', 'scite3', 'related'],\n",
       "      dtype='object', length=104)"
      ]
     },
     "execution_count": 14,
     "metadata": {},
     "output_type": "execute_result"
    }
   ],
   "source": [
    "data_nulls.columns"
   ]
  },
  {
   "cell_type": "code",
   "execution_count": 15,
   "metadata": {},
   "outputs": [],
   "source": [
    "cols_w_nulls_keep = data_nulls.isnull().sum().sort_values(ascending = False).iloc[-28:].index"
   ]
  },
  {
   "cell_type": "code",
   "execution_count": 16,
   "metadata": {},
   "outputs": [],
   "source": [
    "data_nulls = data_nulls[cols_w_nulls_keep].copy()"
   ]
  },
  {
   "cell_type": "code",
   "execution_count": 17,
   "metadata": {},
   "outputs": [
    {
     "data": {
      "text/html": [
       "<div>\n",
       "<style scoped>\n",
       "    .dataframe tbody tr th:only-of-type {\n",
       "        vertical-align: middle;\n",
       "    }\n",
       "\n",
       "    .dataframe tbody tr th {\n",
       "        vertical-align: top;\n",
       "    }\n",
       "\n",
       "    .dataframe thead th {\n",
       "        text-align: right;\n",
       "    }\n",
       "</style>\n",
       "<table border=\"1\" class=\"dataframe\">\n",
       "  <thead>\n",
       "    <tr style=\"text-align: right;\">\n",
       "      <th></th>\n",
       "      <th>ransom</th>\n",
       "      <th>nperps</th>\n",
       "      <th>nperpcap</th>\n",
       "      <th>nwoundte</th>\n",
       "      <th>nkillter</th>\n",
       "      <th>scite1</th>\n",
       "      <th>summary</th>\n",
       "      <th>claimed</th>\n",
       "      <th>nwoundus</th>\n",
       "      <th>nkillus</th>\n",
       "      <th>...</th>\n",
       "      <th>targsubtype1_txt</th>\n",
       "      <th>longitude</th>\n",
       "      <th>latitude</th>\n",
       "      <th>natlty1_txt</th>\n",
       "      <th>natlty1</th>\n",
       "      <th>target1</th>\n",
       "      <th>city</th>\n",
       "      <th>guncertain1</th>\n",
       "      <th>ishostkid</th>\n",
       "      <th>specificity</th>\n",
       "    </tr>\n",
       "  </thead>\n",
       "  <tbody>\n",
       "    <tr>\n",
       "      <th>0</th>\n",
       "      <td>0.0</td>\n",
       "      <td>NaN</td>\n",
       "      <td>NaN</td>\n",
       "      <td>NaN</td>\n",
       "      <td>NaN</td>\n",
       "      <td>NaN</td>\n",
       "      <td>NaN</td>\n",
       "      <td>NaN</td>\n",
       "      <td>NaN</td>\n",
       "      <td>NaN</td>\n",
       "      <td>...</td>\n",
       "      <td>Named Civilian</td>\n",
       "      <td>-69.951164</td>\n",
       "      <td>18.456792</td>\n",
       "      <td>Dominican Republic</td>\n",
       "      <td>58.0</td>\n",
       "      <td>Julio Guzman</td>\n",
       "      <td>Santo Domingo</td>\n",
       "      <td>0.0</td>\n",
       "      <td>0.0</td>\n",
       "      <td>1.0</td>\n",
       "    </tr>\n",
       "  </tbody>\n",
       "</table>\n",
       "<p>1 rows × 28 columns</p>\n",
       "</div>"
      ],
      "text/plain": [
       "   ransom  nperps  nperpcap  nwoundte  nkillter scite1 summary  claimed  \\\n",
       "0     0.0     NaN       NaN       NaN       NaN    NaN     NaN      NaN   \n",
       "\n",
       "   nwoundus  nkillus     ...      targsubtype1_txt  longitude   latitude  \\\n",
       "0       NaN      NaN     ...        Named Civilian -69.951164  18.456792   \n",
       "\n",
       "          natlty1_txt  natlty1       target1           city  guncertain1  \\\n",
       "0  Dominican Republic     58.0  Julio Guzman  Santo Domingo          0.0   \n",
       "\n",
       "  ishostkid  specificity  \n",
       "0       0.0          1.0  \n",
       "\n",
       "[1 rows x 28 columns]"
      ]
     },
     "execution_count": 17,
     "metadata": {},
     "output_type": "execute_result"
    }
   ],
   "source": [
    "data_nulls.head(1)"
   ]
  },
  {
   "cell_type": "code",
   "execution_count": 18,
   "metadata": {},
   "outputs": [
    {
     "data": {
      "text/plain": [
       "array([ 0.,  1., nan, -9.])"
      ]
     },
     "execution_count": 18,
     "metadata": {},
     "output_type": "execute_result"
    }
   ],
   "source": [
    "data_nulls.ransom.unique()"
   ]
  },
  {
   "cell_type": "code",
   "execution_count": 19,
   "metadata": {},
   "outputs": [],
   "source": [
    "#Fill in nulls of ransom with -9\n",
    "\n",
    "data_nulls.ransom.fillna(-9., inplace=True)"
   ]
  },
  {
   "cell_type": "code",
   "execution_count": 20,
   "metadata": {},
   "outputs": [],
   "source": [
    "# data_nulls.nperps.value_counts(dropna=False)"
   ]
  },
  {
   "cell_type": "code",
   "execution_count": 21,
   "metadata": {},
   "outputs": [],
   "source": [
    "data_nulls.nperps.fillna(-99.0, inplace=True)"
   ]
  },
  {
   "cell_type": "code",
   "execution_count": 22,
   "metadata": {},
   "outputs": [
    {
     "data": {
      "text/plain": [
       "array([  nan, -99. ,   1. ,   2. ,   0. ,   4. ,   3. ,   6. ,   5. ,\n",
       "         7. ,   8. ,   9. ,  10. ,  26. ,  24. ,  13. ,  14. ,  45. ,\n",
       "        12. ,  11. ,   2.5,  25. ,  32. ,  27. ,  -9. ,  15. ,  43. ,\n",
       "        21. ,  50. , 406. ,  17. , 100. ,  60. ,  87. ,  55. ,  20. ,\n",
       "        29. ,  76. ,  40. , 271. ,  28. ,  16. ,  19. ,  30. , 200. ,\n",
       "        41. ,  18. , 126. ,  23. ,  22. ,  63. ])"
      ]
     },
     "execution_count": 22,
     "metadata": {},
     "output_type": "execute_result"
    }
   ],
   "source": [
    "data_nulls.nperpcap.unique()"
   ]
  },
  {
   "cell_type": "code",
   "execution_count": 23,
   "metadata": {},
   "outputs": [],
   "source": [
    "data_nulls.nperpcap.fillna(-99., inplace=True)"
   ]
  },
  {
   "cell_type": "code",
   "execution_count": 24,
   "metadata": {},
   "outputs": [
    {
     "data": {
      "text/plain": [
       "array([ nan,   0.,   1.,   4.,   2.,   3.,   5.,   6.,  50.,  10.,  16.,\n",
       "        20.,   9.,  13.,  11., 200.,   7.,  15.,  31.,   8.,  12.,  25.,\n",
       "        30.,  38.,  14.,  21.,  24.,  18.,  62.,  17., 150.,  22.,  23.,\n",
       "        33.,  19.,  40.,  51., 101.,  60.,  35.,  53.,  26., 100.])"
      ]
     },
     "execution_count": 24,
     "metadata": {},
     "output_type": "execute_result"
    }
   ],
   "source": [
    "data_nulls.nwoundte.unique()"
   ]
  },
  {
   "cell_type": "code",
   "execution_count": 25,
   "metadata": {},
   "outputs": [],
   "source": [
    "data_nulls.drop(\"nwoundte\", axis = 1, inplace=True)"
   ]
  },
  {
   "cell_type": "code",
   "execution_count": 26,
   "metadata": {},
   "outputs": [],
   "source": [
    "data_nulls.drop(\"nkillter\", axis = 1, inplace=True)"
   ]
  },
  {
   "cell_type": "code",
   "execution_count": 27,
   "metadata": {},
   "outputs": [
    {
     "data": {
      "text/html": [
       "<div>\n",
       "<style scoped>\n",
       "    .dataframe tbody tr th:only-of-type {\n",
       "        vertical-align: middle;\n",
       "    }\n",
       "\n",
       "    .dataframe tbody tr th {\n",
       "        vertical-align: top;\n",
       "    }\n",
       "\n",
       "    .dataframe thead th {\n",
       "        text-align: right;\n",
       "    }\n",
       "</style>\n",
       "<table border=\"1\" class=\"dataframe\">\n",
       "  <thead>\n",
       "    <tr style=\"text-align: right;\">\n",
       "      <th></th>\n",
       "      <th>ransom</th>\n",
       "      <th>nperps</th>\n",
       "      <th>nperpcap</th>\n",
       "      <th>scite1</th>\n",
       "      <th>summary</th>\n",
       "      <th>claimed</th>\n",
       "      <th>nwoundus</th>\n",
       "      <th>nkillus</th>\n",
       "      <th>weapdetail</th>\n",
       "      <th>corp1</th>\n",
       "      <th>...</th>\n",
       "      <th>targsubtype1_txt</th>\n",
       "      <th>longitude</th>\n",
       "      <th>latitude</th>\n",
       "      <th>natlty1_txt</th>\n",
       "      <th>natlty1</th>\n",
       "      <th>target1</th>\n",
       "      <th>city</th>\n",
       "      <th>guncertain1</th>\n",
       "      <th>ishostkid</th>\n",
       "      <th>specificity</th>\n",
       "    </tr>\n",
       "  </thead>\n",
       "  <tbody>\n",
       "    <tr>\n",
       "      <th>0</th>\n",
       "      <td>0.0</td>\n",
       "      <td>-99.0</td>\n",
       "      <td>-99.0</td>\n",
       "      <td>NaN</td>\n",
       "      <td>NaN</td>\n",
       "      <td>NaN</td>\n",
       "      <td>NaN</td>\n",
       "      <td>NaN</td>\n",
       "      <td>NaN</td>\n",
       "      <td>NaN</td>\n",
       "      <td>...</td>\n",
       "      <td>Named Civilian</td>\n",
       "      <td>-69.951164</td>\n",
       "      <td>18.456792</td>\n",
       "      <td>Dominican Republic</td>\n",
       "      <td>58.0</td>\n",
       "      <td>Julio Guzman</td>\n",
       "      <td>Santo Domingo</td>\n",
       "      <td>0.0</td>\n",
       "      <td>0.0</td>\n",
       "      <td>1.0</td>\n",
       "    </tr>\n",
       "  </tbody>\n",
       "</table>\n",
       "<p>1 rows × 26 columns</p>\n",
       "</div>"
      ],
      "text/plain": [
       "   ransom  nperps  nperpcap scite1 summary  claimed  nwoundus  nkillus  \\\n",
       "0     0.0   -99.0     -99.0    NaN     NaN      NaN       NaN      NaN   \n",
       "\n",
       "  weapdetail corp1     ...      targsubtype1_txt  longitude   latitude  \\\n",
       "0        NaN   NaN     ...        Named Civilian -69.951164  18.456792   \n",
       "\n",
       "          natlty1_txt  natlty1       target1           city  guncertain1  \\\n",
       "0  Dominican Republic     58.0  Julio Guzman  Santo Domingo          0.0   \n",
       "\n",
       "   ishostkid specificity  \n",
       "0        0.0         1.0  \n",
       "\n",
       "[1 rows x 26 columns]"
      ]
     },
     "execution_count": 27,
     "metadata": {},
     "output_type": "execute_result"
    }
   ],
   "source": [
    "data_nulls.head(1)"
   ]
  },
  {
   "cell_type": "code",
   "execution_count": 28,
   "metadata": {},
   "outputs": [],
   "source": [
    "data_nulls.drop(\"scite1\", axis = 1, inplace=True)"
   ]
  },
  {
   "cell_type": "code",
   "execution_count": 29,
   "metadata": {},
   "outputs": [
    {
     "data": {
      "text/plain": [
       "66138"
      ]
     },
     "execution_count": 29,
     "metadata": {},
     "output_type": "execute_result"
    }
   ],
   "source": [
    "data_nulls.summary.isnull().sum()"
   ]
  },
  {
   "cell_type": "code",
   "execution_count": 30,
   "metadata": {},
   "outputs": [],
   "source": [
    "data_nulls.drop(\"summary\", axis = 1, inplace=True)"
   ]
  },
  {
   "cell_type": "code",
   "execution_count": 31,
   "metadata": {},
   "outputs": [
    {
     "data": {
      "text/plain": [
       "array([nan,  0.,  1., -9.])"
      ]
     },
     "execution_count": 31,
     "metadata": {},
     "output_type": "execute_result"
    }
   ],
   "source": [
    "data_nulls.claimed.unique()"
   ]
  },
  {
   "cell_type": "code",
   "execution_count": 32,
   "metadata": {},
   "outputs": [],
   "source": [
    "data_nulls.claimed.fillna(-9., inplace=True)"
   ]
  },
  {
   "cell_type": "code",
   "execution_count": 34,
   "metadata": {},
   "outputs": [
    {
     "data": {
      "text/plain": [
       "ransom                  0\n",
       "nperps                  0\n",
       "nperpcap                0\n",
       "claimed                 0\n",
       "nwoundus            64710\n",
       "nkillus             64459\n",
       "weapdetail          59385\n",
       "corp1               42566\n",
       "weapsubtype1        19426\n",
       "weapsubtype1_txt    19426\n",
       "nwound              15325\n",
       "provstate           14502\n",
       "nkill                9682\n",
       "targsubtype1         9345\n",
       "targsubtype1_txt     9345\n",
       "longitude            4606\n",
       "latitude             4606\n",
       "natlty1_txt          1394\n",
       "natlty1              1394\n",
       "target1               636\n",
       "city                  446\n",
       "guncertain1           379\n",
       "ishostkid             178\n",
       "specificity             4\n",
       "dtype: int64"
      ]
     },
     "execution_count": 34,
     "metadata": {},
     "output_type": "execute_result"
    }
   ],
   "source": [
    "data_nulls.isnull().sum()"
   ]
  },
  {
   "cell_type": "code",
   "execution_count": 35,
   "metadata": {},
   "outputs": [
    {
     "data": {
      "text/plain": [
       "(170350, 24)"
      ]
     },
     "execution_count": 35,
     "metadata": {},
     "output_type": "execute_result"
    }
   ],
   "source": [
    "data_nulls.shape"
   ]
  },
  {
   "cell_type": "code",
   "execution_count": 36,
   "metadata": {},
   "outputs": [],
   "source": [
    "data_nulls.drop([\"nwoundus\", \"nkillus\"], axis = 1, inplace=True)"
   ]
  },
  {
   "cell_type": "code",
   "execution_count": 38,
   "metadata": {},
   "outputs": [],
   "source": [
    "data_nulls.weapdetail.fillna(\"no description\", inplace=True)"
   ]
  },
  {
   "cell_type": "code",
   "execution_count": 39,
   "metadata": {},
   "outputs": [],
   "source": [
    "data_nulls.corp1.fillna(\"unknown\", inplace=True)"
   ]
  },
  {
   "cell_type": "code",
   "execution_count": 40,
   "metadata": {},
   "outputs": [],
   "source": [
    "data_nulls.weapsubtype1.fillna(\"unknown\", inplace=True)"
   ]
  },
  {
   "cell_type": "code",
   "execution_count": 41,
   "metadata": {},
   "outputs": [],
   "source": [
    "data_nulls.drop([\"weapsubtype1_txt\"], axis = 1, inplace=True)"
   ]
  },
  {
   "cell_type": "code",
   "execution_count": 43,
   "metadata": {},
   "outputs": [
    {
     "data": {
      "text/plain": [
       "RangeIndex(start=0, stop=170350, step=1)"
      ]
     },
     "execution_count": 43,
     "metadata": {},
     "output_type": "execute_result"
    }
   ],
   "source": [
    "data_nulls.index"
   ]
  },
  {
   "cell_type": "code",
   "execution_count": 44,
   "metadata": {},
   "outputs": [
    {
     "data": {
      "text/plain": [
       "(170350, 135)"
      ]
     },
     "execution_count": 44,
     "metadata": {},
     "output_type": "execute_result"
    }
   ],
   "source": [
    "data.shape"
   ]
  },
  {
   "cell_type": "code",
   "execution_count": 45,
   "metadata": {},
   "outputs": [],
   "source": [
    "df = data[non_null_cols].copy()"
   ]
  },
  {
   "cell_type": "code",
   "execution_count": 46,
   "metadata": {},
   "outputs": [
    {
     "data": {
      "text/plain": [
       "(170350, 31)"
      ]
     },
     "execution_count": 46,
     "metadata": {},
     "output_type": "execute_result"
    }
   ],
   "source": [
    "df.shape"
   ]
  },
  {
   "cell_type": "code",
   "execution_count": 47,
   "metadata": {},
   "outputs": [
    {
     "data": {
      "text/plain": [
       "(170350, 21)"
      ]
     },
     "execution_count": 47,
     "metadata": {},
     "output_type": "execute_result"
    }
   ],
   "source": [
    "data_nulls.shape"
   ]
  },
  {
   "cell_type": "code",
   "execution_count": 48,
   "metadata": {},
   "outputs": [],
   "source": [
    "df = pd.concat([df, data_nulls], axis = 1)"
   ]
  },
  {
   "cell_type": "code",
   "execution_count": 49,
   "metadata": {},
   "outputs": [
    {
     "data": {
      "text/plain": [
       "eventid                 0\n",
       "iyear                   0\n",
       "imonth                  0\n",
       "iday                    0\n",
       "extended                0\n",
       "country                 0\n",
       "country_txt             0\n",
       "region                  0\n",
       "region_txt              0\n",
       "vicinity                0\n",
       "crit1                   0\n",
       "crit2                   0\n",
       "crit3                   0\n",
       "doubtterr               0\n",
       "multiple                0\n",
       "success                 0\n",
       "suicide                 0\n",
       "attacktype1             0\n",
       "attacktype1_txt         0\n",
       "targtype1               0\n",
       "targtype1_txt           0\n",
       "gname                   0\n",
       "individual              0\n",
       "weaptype1               0\n",
       "weaptype1_txt           0\n",
       "property                0\n",
       "dbsource                0\n",
       "INT_LOG                 0\n",
       "INT_IDEO                0\n",
       "INT_MISC                0\n",
       "INT_ANY                 0\n",
       "ransom                  0\n",
       "nperps                  0\n",
       "nperpcap                0\n",
       "claimed                 0\n",
       "weapdetail              0\n",
       "corp1                   0\n",
       "weapsubtype1            0\n",
       "nwound              15325\n",
       "provstate           14502\n",
       "nkill                9682\n",
       "targsubtype1         9345\n",
       "targsubtype1_txt     9345\n",
       "longitude            4606\n",
       "latitude             4606\n",
       "natlty1_txt          1394\n",
       "natlty1              1394\n",
       "target1               636\n",
       "city                  446\n",
       "guncertain1           379\n",
       "ishostkid             178\n",
       "specificity             4\n",
       "dtype: int64"
      ]
     },
     "execution_count": 49,
     "metadata": {},
     "output_type": "execute_result"
    }
   ],
   "source": [
    "df.isnull().sum()"
   ]
  },
  {
   "cell_type": "code",
   "execution_count": 50,
   "metadata": {},
   "outputs": [],
   "source": [
    "df.dropna(inplace=True)"
   ]
  },
  {
   "cell_type": "markdown",
   "metadata": {},
   "source": [
    "Excess columns and nulls have been removed. Outputting data as a csv file."
   ]
  },
  {
   "cell_type": "code",
   "execution_count": 51,
   "metadata": {},
   "outputs": [],
   "source": [
    "df.to_csv(\"clean_data.csv\")"
   ]
  },
  {
   "cell_type": "code",
   "execution_count": null,
   "metadata": {},
   "outputs": [],
   "source": []
  }
 ],
 "metadata": {
  "kernelspec": {
   "display_name": "Python 3",
   "language": "python",
   "name": "python3"
  },
  "language_info": {
   "codemirror_mode": {
    "name": "ipython",
    "version": 3
   },
   "file_extension": ".py",
   "mimetype": "text/x-python",
   "name": "python",
   "nbconvert_exporter": "python",
   "pygments_lexer": "ipython3",
   "version": "3.6.2"
  }
 },
 "nbformat": 4,
 "nbformat_minor": 2
}
